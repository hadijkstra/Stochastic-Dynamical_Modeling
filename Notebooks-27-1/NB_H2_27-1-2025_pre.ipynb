{
 "cells": [
  {
   "cell_type": "markdown",
   "id": "0f110c83-47fb-4929-bd83-193bf440ecf3",
   "metadata": {},
   "source": [
    "Notebook for 27-1-2025, 11:00-12:00 of Stochastic Dynamical Modeling"
   ]
  },
  {
   "cell_type": "code",
   "execution_count": 7,
   "id": "2e717868-16f7-4ec7-8cc7-555edeeaed73",
   "metadata": {},
   "outputs": [],
   "source": [
    "# Libraries\n",
    "\n",
    "import numpy as np\n",
    "import matplotlib.pyplot as plt"
   ]
  },
  {
   "cell_type": "code",
   "execution_count": 8,
   "id": "72ae0f67-5c23-4c9e-87c4-811ad52c9752",
   "metadata": {},
   "outputs": [],
   "source": [
    "# Define interval + number of points \n",
    "\n",
    "T=100; N=10000;  \n",
    "t=np.linspace(0,T,N)"
   ]
  },
  {
   "cell_type": "code",
   "execution_count": 9,
   "id": "94221fe2-8f72-4034-8e7f-465b8b07fd0e",
   "metadata": {},
   "outputs": [
    {
     "ename": "SyntaxError",
     "evalue": "invalid syntax (398154138.py, line 3)",
     "output_type": "error",
     "traceback": [
      "\u001b[0;36m  Cell \u001b[0;32mIn[9], line 3\u001b[0;36m\u001b[0m\n\u001b[0;31m    G =\u001b[0m\n\u001b[0m       ^\u001b[0m\n\u001b[0;31mSyntaxError\u001b[0m\u001b[0;31m:\u001b[0m invalid syntax\n"
     ]
    }
   ],
   "source": [
    "## Exercise 1: Compute Gaussian noise process with mean zero and unit variance \n",
    "\n",
    "G =\n",
    "\n",
    "plt.plot(t,G)\n",
    "plt.xlabel(r'$t$',fontsize=16); plt.ylabel(r'$G_t$',fontsize=16,rotation=0)\n",
    "plt.title('A Gaussian process path')\n",
    "plt.show()\n"
   ]
  },
  {
   "cell_type": "code",
   "execution_count": null,
   "id": "c9d19535-8d6f-4f96-8cf5-a071b333e2b6",
   "metadata": {},
   "outputs": [],
   "source": [
    "## Exercise 2: Compute moments of this time series \n",
    "\n",
    "import scipy\n",
    "from scipy.stats import skew,kurtosis\n",
    "\n",
    "print(np.mean(G))\n",
    "print(np.var(G))\n",
    "print(skew(G, axis=0, bias=True))\n",
    "print(kurtosis(G, axis=0, fisher=False, bias=True))"
   ]
  },
  {
   "cell_type": "code",
   "execution_count": null,
   "id": "bd66827c",
   "metadata": {},
   "outputs": [],
   "source": [
    "## Exercise 3: Compute and plot a realization of a Wiener process W with dt = T/N and unit variance\n",
    "\n",
    "T=100; N=20000; dt=float(T)/N; \n",
    "t=np.linspace(0,T,N+1)\n",
    "\n",
    "dW =\n",
    "W = \n",
    "\n",
    "plt.plot(t,W)\n",
    "plt.xlabel(r'$t$',fontsize=16); plt.ylabel(r'$W_t$',fontsize=16,rotation=0)\n",
    "plt.title('A Wiener process path')\n",
    "plt.show()\n"
   ]
  },
  {
   "cell_type": "code",
   "execution_count": null,
   "id": "ca7b5ce4",
   "metadata": {},
   "outputs": [],
   "source": [
    "## Exercise 4: Determine the mean of dW and the mean of dW*dW \n",
    "\n",
    "print(np.mean(dW))\n",
    "print(np.mean(dW*dW), dt)"
   ]
  }
 ],
 "metadata": {
  "kernelspec": {
   "display_name": "Python 3 (ipykernel)",
   "language": "python",
   "name": "python3"
  },
  "language_info": {
   "codemirror_mode": {
    "name": "ipython",
    "version": 3
   },
   "file_extension": ".py",
   "mimetype": "text/x-python",
   "name": "python",
   "nbconvert_exporter": "python",
   "pygments_lexer": "ipython3",
   "version": "3.12.7"
  }
 },
 "nbformat": 4,
 "nbformat_minor": 5
}
