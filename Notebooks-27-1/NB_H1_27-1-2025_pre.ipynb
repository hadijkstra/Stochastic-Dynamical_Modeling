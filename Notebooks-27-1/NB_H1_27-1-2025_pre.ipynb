{
 "cells": [
  {
   "cell_type": "markdown",
   "id": "d8886cf6",
   "metadata": {},
   "source": [
    "Notebook for 27-1-2025, 10:00-11:00 of Stochastic Dynamical Modeling "
   ]
  },
  {
   "cell_type": "code",
   "execution_count": 15,
   "id": "2f9ef6f2",
   "metadata": {},
   "outputs": [],
   "source": [
    "## Libraries\n",
    "\n",
    "from pylab import *\n",
    "import numpy\n",
    "import datetime\n",
    "import time\n",
    "import glob, os\n",
    "import math\n",
    "import matplotlib.colors as colors\n",
    "from scipy import stats"
   ]
  },
  {
   "cell_type": "code",
   "execution_count": 16,
   "id": "2c83a453",
   "metadata": {},
   "outputs": [],
   "source": [
    "## Helpful functions \n",
    "\n",
    "def TrendRemover(time, data, trend_type):\n",
    "    \"\"\"Removes trend of choice, 1 = linear, 2 = quadratic, etc.\"\"\"\n",
    "   \t\n",
    "    rank     = polyfit(time, data, trend_type)\n",
    "    fitting  = np.zeros(len(time))\n",
    "  \t\t\n",
    "    for rank_i in range(len(rank)):\n",
    "        #Get the least-squre fit\n",
    "        fitting += rank[rank_i] * (time**(len(rank) - 1 - rank_i))\n",
    "    \n",
    "    #Subtract the fitted output\n",
    "    data -= fitting\n",
    "   \t\n",
    "    return data\n",
    "\t\n",
    "def FourierSpectrum(time_series):\n",
    "    \"\"\"Determine the Fourier Spectrum of a given time series\"\"\"\n",
    "    \n",
    "    freq_series \t= fft(time_series) \t\t\t\t\t#Take fourier spectrum\n",
    "    freq_series \t= ((real(freq_series)**2.0) + (imag(freq_series)**2.0)) #Determine power law (absolute value)\n",
    "    freq\t\t= fftfreq(len(time_series))\n",
    "    freq_series \t= freq_series[:freq.argmax()]\t\t\t\t#Restrict to f = 0.5\n",
    "    freq\t\t= freq[:freq.argmax()]\t\t\t\t\t#Restrict to f = 0.5\n",
    "    \n",
    "    return freq, freq_series\n",
    "    \n",
    "def YearConverter(X):\n",
    "\n",
    "    V = (1.0/(X)/365.0)\n",
    "\n",
    "    return [\"%.0f\" % z for z in V]"
   ]
  },
  {
   "cell_type": "code",
   "execution_count": 17,
   "id": "b979b3c6",
   "metadata": {},
   "outputs": [],
   "source": [
    "## Read data file \n",
    "\n",
    "file = open('SSH_SST_Pacific.txt', 'r')\n",
    "lines = file.readlines()\n",
    "file.close()\n",
    "\n",
    "time    = np.zeros(len(lines) - 3)\n",
    "ssh     = np.zeros(len(time))\n",
    "temp    = np.zeros(len(time))\n",
    "\n",
    "for time_i in range(len(time)):\n",
    "    #Read in the data\n",
    "    line = lines[time_i + 3].split()\n",
    "\n",
    "    #Save the corresponding data in the relevant array\n",
    "    year            = int(line[2])\n",
    "    \n",
    "    if year != int(time[time_i-1]):\n",
    "        #New year, reset counter\n",
    "        counter     = 0\n",
    "        \n",
    "        if year % 4 == 0:\n",
    "            #Leap year\n",
    "            num_day     = 366\n",
    "        else: \n",
    "            #Normal year\n",
    "            num_day = 365\n",
    "        \n",
    "    time[time_i]    = year + counter / num_day\n",
    "    ssh[time_i]     = float(line[3])\n",
    "    temp[time_i]    = float(line[4])\n",
    "    counter         += 1"
   ]
  },
  {
   "cell_type": "code",
   "execution_count": 18,
   "id": "cb5ad149",
   "metadata": {
    "scrolled": true
   },
   "outputs": [
    {
     "ename": "SyntaxError",
     "evalue": "invalid syntax (2945678613.py, line 3)",
     "output_type": "error",
     "traceback": [
      "\u001b[0;36m  Cell \u001b[0;32mIn[18], line 3\u001b[0;36m\u001b[0m\n\u001b[0;31m    XXX =\u001b[0m\n\u001b[0m          ^\u001b[0m\n\u001b[0;31mSyntaxError\u001b[0m\u001b[0;31m:\u001b[0m invalid syntax\n"
     ]
    }
   ],
   "source": [
    "# Exercise 1: Plot the temperature anomaly time series with respect to the mean\n",
    "\n",
    "XXX = \n",
    "\n",
    "fig, ax = subplots()\n",
    "\n",
    "ax.plot(time, XXX, linestyle = '-', marker = None)\n",
    "\n",
    "ax.set_xlabel('Time')\n",
    "ax.set_ylabel('Sea surface temperature anomaly (C)')\n",
    "ax.set_ylim(-10, 10)\n",
    "ax.grid()\n",
    "ax.set_title('Sea surface temperature')\n"
   ]
  },
  {
   "cell_type": "code",
   "execution_count": null,
   "id": "4d1cec70",
   "metadata": {},
   "outputs": [],
   "source": [
    "## Exercise 2: Remove trend and compute + plot the Fourier spectrum of the resulting time series \n",
    "\n",
    "YYY     = \n",
    "      \n",
    "freq, freq_temp = FourierSpectrum(YYY)\n",
    "\n",
    "index       = np.where(freq >= 1.0 / 60.0)\n",
    "\n",
    "fig, ax1 = plt.subplots()\n",
    "\n",
    "ax1.set_xlim([1.0/(20 * 365.0), 0.5])\n",
    "ax1.set_xlabel('Frequency (day$^{-1}$)')\n",
    "ax2 = ax1.twiny()\n",
    "\n",
    "new_tick_locations = np.array([1.0/(365.0 * 10), 1.0/(365.0 * 2), 1.0/(365.0), 1.0/(6 * 30), 1.0/(100), 1.0/(2 * 30), 1.0/(1 * 30), 1.0 / (20.0), 1.0 / (10.0), 1.0/5.0])\n",
    "ax2.set_xlabel('Period (days)')\n",
    "ax2.set_xscale('log')\n",
    "\n",
    "ax2.set_xlim(ax1.get_xlim())\n",
    "ax2.set_xticks(new_tick_locations)\n",
    "ax2.set_xticklabels([3650, 730, 365, 180, 100, 60, 30, 20, 10, 5])\n",
    "ax2.grid()\n",
    "\n",
    "graph_temp\t= ax1.plot(freq, freq_temp, '-r', linewidth = 2, label = 'SST')\n",
    "\n",
    "ax1.set_xscale('log')\n",
    "ax1.set_yscale('log')\n",
    "ax1.set_ylim(10**(-4.0), 10**(10.0))\n",
    "ax1.set_ylabel('Power')\n",
    "\n",
    "#show()"
   ]
  },
  {
   "cell_type": "code",
   "execution_count": null,
   "id": "5a8d2b3b-4bf5-4ee6-aeb4-113ffca31d51",
   "metadata": {},
   "outputs": [],
   "source": []
  },
  {
   "cell_type": "code",
   "execution_count": null,
   "id": "378ba2b4-9a6e-45a8-9240-b3b52cdab2fc",
   "metadata": {},
   "outputs": [],
   "source": [
    "## Exercise 3: Seasonal detrend the time series, plot the resulting time series and  power spectrum\n",
    "\n",
    "from statsmodels.tsa.seasonal import seasonal_decompose\n",
    "decomposition = seasonal_decompose(ZZZ, model='additive',period=TTT)\n",
    "deseason_temp = AAA\n",
    "\n",
    "fig, ax = subplots()\n",
    "\n",
    "ax.plot(time, deseason_temp, linestyle = '-', marker = None)\n",
    "\n",
    "ax.set_xlabel('Time')\n",
    "ax.set_ylabel('Sea surface temperature anomaly (C)')\n",
    "ax.set_ylim(-5, 5)\n",
    "ax.grid()\n",
    "ax.set_title('Sea surface temperature')\n",
    "\n",
    "freq, freq_temp = FourierSpectrum(deseason_temp)\n",
    "\n",
    "index       = np.where(freq >= 1.0 / 60.0)\n",
    "\n",
    "fig, ax1 = plt.subplots()\n",
    "\n",
    "ax1.set_xlim([1.0/(20 * 365.0), 0.5])\n",
    "ax1.set_xlabel('Frequency (day$^{-1}$)')\n",
    "ax2 = ax1.twiny()\n",
    "\n",
    "new_tick_locations = np.array([1.0/(365.0 * 10), 1.0/(365.0 * 2), 1.0/(365.0), 1.0/(6 * 30), 1.0/(100), 1.0/(2 * 30), 1.0/(1 * 30), 1.0 / (20.0), 1.0 / (10.0), 1.0/5.0])\n",
    "ax2.set_xlabel('Period (days)')\n",
    "ax2.set_xscale('log')\n",
    "\n",
    "ax2.set_xlim(ax1.get_xlim())\n",
    "ax2.set_xticks(new_tick_locations)\n",
    "ax2.set_xticklabels([3650, 730, 365, 180, 100, 60, 30, 20, 10, 5])\n",
    "ax2.grid()\n",
    "\n",
    "graph_temp\t= ax1.plot(freq, freq_temp, '-r', linewidth = 2, label = 'SST')\n",
    "\n",
    "ax1.set_xscale('log')\n",
    "ax1.set_yscale('log')\n",
    "ax1.set_ylim(10**(-4.0), 10**(10.0))\n",
    "ax1.set_ylabel('Power')\n",
    "\n",
    "#show()\n"
   ]
  },
  {
   "cell_type": "code",
   "execution_count": null,
   "id": "0dcb3eaf",
   "metadata": {},
   "outputs": [],
   "source": [
    "## Exercise 4: Determine and plot the autocorrelation of the seasonally detrended time series  \n",
    "\n",
    "from statsmodels.graphics.tsaplots import plot_acf\n",
    "plot_acf(BBB)\n",
    "\n",
    "import statsmodels.api as sm\n",
    "\n",
    "#calculate autocorrelations\n",
    "adata = sm.tsa.acf(deseason_temp,nlags = 10, fft = False)"
   ]
  },
  {
   "cell_type": "markdown",
   "id": "d97200cd-5c92-4878-bfa9-5d3ed24064f6",
   "metadata": {},
   "source": [
    "Step 5: Compute the histogram and moments of the deseasonalized time series"
   ]
  },
  {
   "cell_type": "code",
   "execution_count": null,
   "id": "0ee7d256",
   "metadata": {},
   "outputs": [],
   "source": [
    "## Exercise 5: Plot the histogram and compute the moments of the deseasonalized time series\n",
    "\n",
    "import scipy\n",
    "from scipy.stats import skew, kurtosis\n",
    "\n",
    "plt.xticks(fontsize=16)\n",
    "plt.yticks(fontsize=16)\n",
    "plt.hist(deseason_temp, bins = 100, density=True,color='black')\n",
    "plt.xlabel(r'$X$',fontsize=16); \n",
    "plt.ylabel(r'frequency',fontsize=16,rotation=90)\n",
    "plt.show()\n",
    "\n",
    "M1 = scipy.stats.moment(deseason_temp,moment = 1)\n",
    "M2 = scipy.stats.moment(deseason_temp,moment = 2)\n",
    "M3 = scipy.stats.moment(deseason_temp,moment = 3)\n",
    "M4 = scipy.stats.moment(deseason_temp,moment = 4)\n",
    "\n",
    "print(M1,M2,M3,M4)\n"
   ]
  },
  {
   "cell_type": "code",
   "execution_count": null,
   "id": "c5bee7cf-7f6a-4d0c-ae12-fa6695cb4688",
   "metadata": {},
   "outputs": [],
   "source": []
  }
 ],
 "metadata": {
  "kernelspec": {
   "display_name": "Python 3 (ipykernel)",
   "language": "python",
   "name": "python3"
  },
  "language_info": {
   "codemirror_mode": {
    "name": "ipython",
    "version": 3
   },
   "file_extension": ".py",
   "mimetype": "text/x-python",
   "name": "python",
   "nbconvert_exporter": "python",
   "pygments_lexer": "ipython3",
   "version": "3.12.7"
  }
 },
 "nbformat": 4,
 "nbformat_minor": 5
}
