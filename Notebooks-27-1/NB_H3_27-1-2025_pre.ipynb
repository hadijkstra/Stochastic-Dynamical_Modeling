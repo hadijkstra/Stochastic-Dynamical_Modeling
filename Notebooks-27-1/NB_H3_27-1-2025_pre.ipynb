{
 "cells": [
  {
   "cell_type": "markdown",
   "id": "d6620ef3-e6c1-4438-b2c7-a896a4331a46",
   "metadata": {},
   "source": [
    "Notebook for 27-1-2025, 12:00-13:00 of Stochastic Dynamical Modeling"
   ]
  },
  {
   "cell_type": "code",
   "execution_count": 7,
   "id": "bd66827c",
   "metadata": {},
   "outputs": [],
   "source": [
    "# Libraries \n",
    "\n",
    "import numpy as np\n",
    "import matplotlib.pyplot as plt\n",
    "\n",
    "# Random number \n",
    "np.random.seed(100)\n",
    "\n",
    "# Define parameters for Euler - Marayama scheme \n",
    "\n",
    "gamma=1.0; sigma = 0.25; Xzero=1\n",
    "T=100; N=2**12; dt = float(T)/N\n",
    "t=np.linspace(0,T,N+1)\n",
    "\n",
    "# Define Wiener process realization\n",
    "\n",
    "dW=np.sqrt(dt)*np.random.randn(1,N)\n",
    "W=np.cumsum(dW)\n"
   ]
  },
  {
   "cell_type": "code",
   "execution_count": 8,
   "id": "8e860482",
   "metadata": {},
   "outputs": [
    {
     "ename": "SyntaxError",
     "evalue": "invalid syntax (3310935406.py, line 8)",
     "output_type": "error",
     "traceback": [
      "\u001b[0;36m  Cell \u001b[0;32mIn[8], line 8\u001b[0;36m\u001b[0m\n\u001b[0;31m    Xem[j] =\u001b[0m\n\u001b[0m             ^\u001b[0m\n\u001b[0;31mSyntaxError\u001b[0m\u001b[0;31m:\u001b[0m invalid syntax\n"
     ]
    }
   ],
   "source": [
    "## Exercise 1: Formulate the EM scheme for the SDE\n",
    "## dX_t = - \\gamma X_T + \\sigma dW_t \n",
    "## and plot the realization of the resulting stochastic process\n",
    "\n",
    "Xem=np.zeros(N+1); Xem[0] = Xzero\n",
    "for j in range(1,N+1):\n",
    "    Winc=np.sum(dW[0][range(j-1,j)])\n",
    "    Xem[j] = \n",
    "\n",
    "plt.xticks(fontsize=16)\n",
    "plt.yticks(fontsize=16)\n",
    "plt.plot(t,Xem,color='black')\n",
    "plt.xlabel(r'$t$',fontsize=16); \n",
    "plt.ylabel(r'$X$',fontsize=16,rotation=90)\n",
    "plt.show()"
   ]
  },
  {
   "cell_type": "code",
   "execution_count": null,
   "id": "ca7b5ce4",
   "metadata": {},
   "outputs": [],
   "source": [
    "## Exercise 2: Plot the histogram of the time series above \n",
    "\n",
    "plt.xticks(fontsize=16)\n",
    "plt.yticks(fontsize=16)\n",
    "plt.hist(Xem[100:], bins = 100, density=True,color='black')\n",
    "plt.xlabel(r'$X$',fontsize=16); \n",
    "plt.ylabel(r'frequency',fontsize=16,rotation=90)\n",
    "plt.show()"
   ]
  }
 ],
 "metadata": {
  "kernelspec": {
   "display_name": "Python 3 (ipykernel)",
   "language": "python",
   "name": "python3"
  },
  "language_info": {
   "codemirror_mode": {
    "name": "ipython",
    "version": 3
   },
   "file_extension": ".py",
   "mimetype": "text/x-python",
   "name": "python",
   "nbconvert_exporter": "python",
   "pygments_lexer": "ipython3",
   "version": "3.12.7"
  }
 },
 "nbformat": 4,
 "nbformat_minor": 5
}
